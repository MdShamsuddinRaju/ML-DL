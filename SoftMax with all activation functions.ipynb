{
 "cells": [
  {
   "cell_type": "code",
   "execution_count": 1,
   "id": "342d7597",
   "metadata": {},
   "outputs": [],
   "source": [
    "import math \n",
    "import numpy as np \n",
    "import matplotlib.pyplot as plt\n",
    "%matplotlib inline"
   ]
  },
  {
   "cell_type": "code",
   "execution_count": 2,
   "id": "9bdd238f",
   "metadata": {
    "scrolled": true
   },
   "outputs": [
    {
     "name": "stdout",
     "output_type": "stream",
     "text": [
      "[-1.50000000e+01 -1.47000000e+01 -1.44000000e+01 -1.41000000e+01\n",
      " -1.38000000e+01 -1.35000000e+01 -1.32000000e+01 -1.29000000e+01\n",
      " -1.26000000e+01 -1.23000000e+01 -1.20000000e+01 -1.17000000e+01\n",
      " -1.14000000e+01 -1.11000000e+01 -1.08000000e+01 -1.05000000e+01\n",
      " -1.02000000e+01 -9.90000000e+00 -9.60000000e+00 -9.30000000e+00\n",
      " -9.00000000e+00 -8.70000000e+00 -8.40000000e+00 -8.10000000e+00\n",
      " -7.80000000e+00 -7.50000000e+00 -7.20000000e+00 -6.90000000e+00\n",
      " -6.60000000e+00 -6.30000000e+00 -6.00000000e+00 -5.70000000e+00\n",
      " -5.40000000e+00 -5.10000000e+00 -4.80000000e+00 -4.50000000e+00\n",
      " -4.20000000e+00 -3.90000000e+00 -3.60000000e+00 -3.30000000e+00\n",
      " -3.00000000e+00 -2.70000000e+00 -2.40000000e+00 -2.10000000e+00\n",
      " -1.80000000e+00 -1.50000000e+00 -1.20000000e+00 -9.00000000e-01\n",
      " -6.00000000e-01 -3.00000000e-01  3.55271368e-14  3.00000000e-01\n",
      "  6.00000000e-01  9.00000000e-01  1.20000000e+00  1.50000000e+00\n",
      "  1.80000000e+00  2.10000000e+00  2.40000000e+00  2.70000000e+00\n",
      "  3.00000000e+00  3.30000000e+00  3.60000000e+00  3.90000000e+00\n",
      "  4.20000000e+00  4.50000000e+00  4.80000000e+00  5.10000000e+00\n",
      "  5.40000000e+00  5.70000000e+00  6.00000000e+00  6.30000000e+00\n",
      "  6.60000000e+00  6.90000000e+00  7.20000000e+00  7.50000000e+00\n",
      "  7.80000000e+00  8.10000000e+00  8.40000000e+00  8.70000000e+00\n",
      "  9.00000000e+00  9.30000000e+00  9.60000000e+00  9.90000000e+00\n",
      "  1.02000000e+01  1.05000000e+01  1.08000000e+01  1.11000000e+01\n",
      "  1.14000000e+01  1.17000000e+01  1.20000000e+01  1.23000000e+01\n",
      "  1.26000000e+01  1.29000000e+01  1.32000000e+01  1.35000000e+01\n",
      "  1.38000000e+01  1.41000000e+01  1.44000000e+01  1.47000000e+01]\n"
     ]
    }
   ],
   "source": [
    "randomNumber = np.arange(-15.0, 15.0, 0.3) \n",
    "print(randomNumber)"
   ]
  },
  {
   "cell_type": "code",
   "execution_count": 3,
   "id": "1b9642d3",
   "metadata": {},
   "outputs": [],
   "source": [
    "def softMaxActivationFunction(number):\n",
    "    expValue = np.exp(number)\n",
    "    return expValue / expValue.sum()"
   ]
  },
  {
   "cell_type": "code",
   "execution_count": 4,
   "id": "6e0a14e5",
   "metadata": {},
   "outputs": [
    {
     "data": {
      "text/plain": [
       "[<matplotlib.lines.Line2D at 0x17225c7ea60>]"
      ]
     },
     "execution_count": 4,
     "metadata": {},
     "output_type": "execute_result"
    },
    {
     "data": {
      "image/png": "[encoded data removed]",
      "text/plain": [
       "<Figure size 432x288 with 1 Axes>"
      ]
     },
     "metadata": {
      "needs_background": "light"
     },
     "output_type": "display_data"
    }
   ],
   "source": [
    "softMax = softMaxActivationFunction(randomNumber)\n",
    "plt.plot(randomNumber, softMax)"
   ]
  },
  {
   "cell_type": "code",
   "execution_count": 5,
   "id": "204f9c7e",
   "metadata": {},
   "outputs": [
    {
     "data": {
      "text/plain": [
       "array([0.61948564, 0.20556876, 0.54133624, 0.31666499, 0.77599828,\n",
       "       0.03219882, 0.31296996, 0.21282595, 0.77742561, 0.8402062 ])"
      ]
     },
     "execution_count": 5,
     "metadata": {},
     "output_type": "execute_result"
    }
   ],
   "source": [
    "number = np.random.rand(10)\n",
    "number"
   ]
  },
  {
   "cell_type": "code",
   "execution_count": 6,
   "id": "9a646b46",
   "metadata": {},
   "outputs": [
    {
     "data": {
      "text/plain": [
       "array([ 1.95106406,  1.37327637,  1.08697141,  0.59555522, -0.2378412 ,\n",
       "        0.21661646, -0.96739242, -0.93321792, -0.10337496, -0.48531493])"
      ]
     },
     "execution_count": 6,
     "metadata": {},
     "output_type": "execute_result"
    }
   ],
   "source": [
    "number = np.random.randn(10)\n",
    "number"
   ]
  },
  {
   "cell_type": "code",
   "execution_count": 7,
   "id": "c1a81878",
   "metadata": {},
   "outputs": [
    {
     "data": {
      "text/plain": [
       "8"
      ]
     },
     "execution_count": 7,
     "metadata": {},
     "output_type": "execute_result"
    }
   ],
   "source": [
    "number = np.random.randint(10)\n",
    "number"
   ]
  },
  {
   "cell_type": "code",
   "execution_count": 8,
   "id": "df4bf5af",
   "metadata": {},
   "outputs": [
    {
     "data": {
      "text/plain": [
       "array([8, 7, 3, 7, 6])"
      ]
     },
     "execution_count": 8,
     "metadata": {},
     "output_type": "execute_result"
    }
   ],
   "source": [
    "number = np.random.randint(1, 10, 5)\n",
    "number"
   ]
  },
  {
   "cell_type": "code",
   "execution_count": 9,
   "id": "0f02cecf",
   "metadata": {},
   "outputs": [],
   "source": [
    "def linearFunction(number):\n",
    "    numberStore = []\n",
    "    for i in number:\n",
    "        numberStore.append(i)\n",
    "    return numberStore"
   ]
  },
  {
   "cell_type": "code",
   "execution_count": 10,
   "id": "ffc4377a",
   "metadata": {},
   "outputs": [
    {
     "data": {
      "image/png": "[encoded data removed]",
      "text/plain": [
       "<Figure size 432x288 with 1 Axes>"
      ]
     },
     "metadata": {
      "needs_background": "light"
     },
     "output_type": "display_data"
    }
   ],
   "source": [
    "LinearLine = linearFunction(randomNumber)\n",
    "plt.plot(LinearLine, randomNumber)\n",
    "\n",
    "ax = plt.gca()\n",
    "plt.show()"
   ]
  },
  {
   "cell_type": "code",
   "execution_count": 11,
   "id": "8b5201bc",
   "metadata": {},
   "outputs": [],
   "source": [
    "def relu_activationfunction(number):\n",
    "    numberStore = []\n",
    "    for i in number:\n",
    "        initialValue = 0\n",
    "        if i > 0:\n",
    "            initialValue = i\n",
    "        numberStore.append(initialValue)\n",
    "    return numberStore"
   ]
  },
  {
   "cell_type": "code",
   "execution_count": 12,
   "id": "882cc6c9",
   "metadata": {},
   "outputs": [
    {
     "data": {
      "text/plain": [
       "[<matplotlib.lines.Line2D at 0x17226459d60>]"
      ]
     },
     "execution_count": 12,
     "metadata": {},
     "output_type": "execute_result"
    },
    {
     "data": {
      "image/png": "[encoded data removed]",
      "text/plain": [
       "<Figure size 432x288 with 1 Axes>"
      ]
     },
     "metadata": {
      "needs_background": "light"
     },
     "output_type": "display_data"
    }
   ],
   "source": [
    "relu_line = relu_activationfunction(randomNumber)\n",
    "plt.plot(randomNumber, relu_line)"
   ]
  },
  {
   "cell_type": "code",
   "execution_count": 13,
   "id": "33845cd4",
   "metadata": {},
   "outputs": [],
   "source": [
    "def signmoidFunction(number):\n",
    "    numberStore = []\n",
    "    for i in number:\n",
    "        each_result = 1/(1+math.exp(-i))\n",
    "        numberStore.append(each_result)\n",
    "    return numberStore"
   ]
  },
  {
   "cell_type": "code",
   "execution_count": 14,
   "id": "59e16750",
   "metadata": {},
   "outputs": [
    {
     "data": {
      "text/plain": [
       "[<matplotlib.lines.Line2D at 0x172264c1760>]"
      ]
     },
     "execution_count": 14,
     "metadata": {},
     "output_type": "execute_result"
    },
    {
     "data": {
      "image/png": "[encoded data removed]",
      "text/plain": [
       "<Figure size 432x288 with 1 Axes>"
      ]
     },
     "metadata": {
      "needs_background": "light"
     },
     "output_type": "display_data"
    }
   ],
   "source": [
    "sigmoid_plot = signmoidFunction(randomNumber)\n",
    "plt.plot(randomNumber, sigmoid_plot)"
   ]
  },
  {
   "cell_type": "code",
   "execution_count": 15,
   "id": "f62c0d46",
   "metadata": {},
   "outputs": [],
   "source": [
    "def tanhActivationFunction(number):\n",
    "    tanhValue = []\n",
    "    for i in number:\n",
    "        tanhValue.append(math.tanh(i))\n",
    "    return tanhValue"
   ]
  },
  {
   "cell_type": "code",
   "execution_count": 16,
   "id": "70f609d3",
   "metadata": {},
   "outputs": [
    {
     "data": {
      "image/png": "[encoded data removed]",
      "text/plain": [
       "<Figure size 432x288 with 1 Axes>"
      ]
     },
     "metadata": {
      "needs_background": "light"
     },
     "output_type": "display_data"
    }
   ],
   "source": [
    "tanh_plot = tanhActivationFunction(randomNumber)\n",
    "plt.plot(tanh_plot, randomNumber)\n",
    "\n",
    "ax = plt.gca()\n",
    "plt.show()"
   ]
  },
  {
   "cell_type": "code",
   "execution_count": 17,
   "id": "f2d3b264",
   "metadata": {},
   "outputs": [],
   "source": [
    "def tanhActivationFunctions2(number):\n",
    "    tanhvalue = []\n",
    "    for i in number:\n",
    "        initialValue = 0\n",
    "        if i < 0:\n",
    "            initialValue = -1\n",
    "            tanhvalue.append(initialValue)\n",
    "        elif i> 0:\n",
    "            initialValue = 1\n",
    "            tanhvalue.append(initialValue)\n",
    "            \n",
    "    return tanhvalue"
   ]
  },
  {
   "cell_type": "code",
   "execution_count": 18,
   "id": "a1770018",
   "metadata": {},
   "outputs": [
    {
     "data": {
      "text/plain": [
       "[<matplotlib.lines.Line2D at 0x17226581700>]"
      ]
     },
     "execution_count": 18,
     "metadata": {},
     "output_type": "execute_result"
    },
    {
     "data": {
      "image/png": "[encoded data removed]",
      "text/plain": [
       "<Figure size 432x288 with 1 Axes>"
      ]
     },
     "metadata": {
      "needs_background": "light"
     },
     "output_type": "display_data"
    }
   ],
   "source": [
    "tanh_plot2 = tanhActivationFunctions2(randomNumber)\n",
    "plt.plot(tanh_plot2, randomNumber)"
   ]
  },
  {
   "cell_type": "code",
   "execution_count": null,
   "id": "15f7aac2",
   "metadata": {},
   "outputs": [],
   "source": []
  }
 ],
 "metadata": {
  "kernelspec": {
   "display_name": "Python 3",
   "language": "python",
   "name": "python3"
  },
  "language_info": {
   "codemirror_mode": {
    "name": "ipython",
    "version": 3
   },
   "file_extension": ".py",
   "mimetype": "text/x-python",
   "name": "python",
   "nbconvert_exporter": "python",
   "pygments_lexer": "ipython3",
   "version": "3.8.8"
  }
 },
 "nbformat": 4,
 "nbformat_minor": 5
}
